{
 "cells": [
  {
   "cell_type": "code",
   "execution_count": 1,
   "source": [
    "import pandas as pd\r\n",
    "import numpy as np\r\n",
    "from sklearn.model_selection import train_test_split\r\n",
    "from sklearn.metrics import confusion_matrix, mean_squared_error, cohen_kappa_score\r\n",
    "import seaborn as sns\r\n",
    "import matplotlib.pyplot as plt"
   ],
   "outputs": [],
   "metadata": {}
  },
  {
   "cell_type": "code",
   "execution_count": 2,
   "source": [
    "def preprocessing_accident_dataframe(accident_df):\r\n",
    "    accident_df['Data'] = pd.to_datetime(accident_df['Data'])\r\n",
    "    accident_df['weekday'] = accident_df['Data'].dt.weekday.astype(str)\r\n",
    "    accident_df.drop(columns='Data', inplace=True)\r\n",
    "    return accident_df\r\n"
   ],
   "outputs": [],
   "metadata": {}
  },
  {
   "cell_type": "code",
   "execution_count": 116,
   "source": [
    "def get_most_frequent_class(series):\r\n",
    "    return series.value_counts().index.tolist()[0]"
   ],
   "outputs": [],
   "metadata": {}
  },
  {
   "cell_type": "code",
   "execution_count": 117,
   "source": [
    "class DecisionTreeNode:\r\n",
    "    def __init__(self):\r\n",
    "        self.label = None\r\n",
    "        self.decision = None\r\n",
    "        self.alt_node = None\r\n",
    "        self.type = None\r\n",
    "        self.children = dict()\r\n",
    "    \r\n",
    "    def add_branch(self, value, node):\r\n",
    "        self.children[value] = node\r\n",
    "    \r\n",
    "    def next_node(self, value):\r\n",
    "        if value in self.children.keys():\r\n",
    "            return self.children[value]\r\n",
    "        return self.alt_node\r\n",
    "\r\n",
    "    def _predict_one_record(self, record: dict):\r\n",
    "        node = self\r\n",
    "        while(True):\r\n",
    "\r\n",
    "            if node.type == 'node':\r\n",
    "                record_decision = record[node.decision]\r\n",
    "                node = node.next_node(record_decision)\r\n",
    "\r\n",
    "            if node.type == 'leaf':\r\n",
    "                return node.label\r\n",
    "\r\n",
    "\r\n",
    "    def predict(self, df):\r\n",
    "        records = df.to_dict('records')\r\n",
    "        predictions = [self._predict_one_record(record) for record in records]\r\n",
    "        return pd.Series(predictions, index = df.index, name=\"decision_tree_pred\")\r\n",
    "    \r\n",
    "    def __repr__(self):\r\n",
    "        return f\"type = {self.type}\\ndecision = {self.decision}\\nchildren = {list(self.children)}\\nlabel={self.label}\""
   ],
   "outputs": [],
   "metadata": {}
  },
  {
   "cell_type": "code",
   "execution_count": 118,
   "source": [
    "def entropy(examples, target_attribute):\r\n",
    "   result = 0\r\n",
    "   for value, subset in examples.groupby(target_attribute):\r\n",
    "       proportion = len(subset)/len(examples)\r\n",
    "       result -= proportion * np.log2(proportion)\r\n",
    "   return result"
   ],
   "outputs": [],
   "metadata": {}
  },
  {
   "cell_type": "code",
   "execution_count": 119,
   "source": [
    "def calculate_info_gain(examples, attribute, target_attribute, set_entropy):\r\n",
    "   gain = set_entropy\r\n",
    "   for value, subset in examples.groupby(attribute):\r\n",
    "       gain -=  len(subset)/len(examples) * entropy(subset, target_attribute)\r\n",
    "   return gain"
   ],
   "outputs": [],
   "metadata": {}
  },
  {
   "cell_type": "code",
   "execution_count": 120,
   "source": [
    "def get_attr_with_most_info_gain(examples, attributes, target_attribute):\r\n",
    "    set_entropy = entropy(examples, target_attribute)\r\n",
    "\r\n",
    "    info_gains = []\r\n",
    "    for attribute in attributes:\r\n",
    "        info_gains.append((calculate_info_gain(examples, attribute, target_attribute, set_entropy), attribute))\r\n",
    "\r\n",
    "    info_gains = sorted(info_gains, key = lambda x: x[0], reverse = True)\r\n",
    "    return info_gains[0][1]\r\n",
    "    "
   ],
   "outputs": [],
   "metadata": {}
  },
  {
   "cell_type": "code",
   "execution_count": 121,
   "source": [
    "def id3 (examples: pd.DataFrame, attributes: list, target_attribute: str, min_examples_per_leaf: int = 2, depth = 0):\r\n",
    "    node = DecisionTreeNode()\r\n",
    "    attributes = attributes.copy()\r\n",
    "    attrs_set = set(examples[target_attribute])\r\n",
    "    # print(f'leaf: {attrs_set}')\r\n",
    "    if  len(attrs_set) == 1:\r\n",
    "        node.label = attrs_set.pop()\r\n",
    "        node.type = 'leaf'\r\n",
    "        return node\r\n",
    "\r\n",
    "    if len(attributes) == 0 or len(examples) < min_examples_per_leaf:\r\n",
    "        node.label = get_most_frequent_class(examples[target_attribute])\r\n",
    "        node.type = 'leaf'\r\n",
    "        return node\r\n",
    "\r\n",
    "    best_attr = get_attr_with_most_info_gain(examples, attributes, target_attribute)\r\n",
    "    \r\n",
    "    node.decision = best_attr\r\n",
    "    attributes.remove(best_attr)\r\n",
    "\r\n",
    "    for value, subset in examples.groupby(best_attr):\r\n",
    "        # print(\" \" * depth, best_attr, value)\r\n",
    "        node.add_branch(value, id3(subset, attributes, target_attribute, min_examples_per_leaf, depth + 1))\r\n",
    "        node.type = 'node'\r\n",
    "\r\n",
    "    node.alt_node = DecisionTreeNode()\r\n",
    "    node.alt_node.label = get_most_frequent_class(examples[target_attribute])\r\n",
    "    node.alt_node.type = 'leaf'\r\n",
    "    \r\n",
    "    return node"
   ],
   "outputs": [],
   "metadata": {}
  },
  {
   "cell_type": "code",
   "execution_count": 129,
   "source": [
    "accident_df = pd.read_csv(\"accident_data.csv\")\r\n",
    "accident_df = preprocessing_accident_dataframe(accident_df)\r\n",
    "\r\n",
    "target_attribute = \"Accident Level\"\r\n",
    "attributes = accident_df.columns.tolist()\r\n",
    "attributes.remove(target_attribute)\r\n",
    "\r\n",
    "accident_df.head()\r\n"
   ],
   "outputs": [
    {
     "output_type": "execute_result",
     "data": {
      "text/html": [
       "<div>\n",
       "<style scoped>\n",
       "    .dataframe tbody tr th:only-of-type {\n",
       "        vertical-align: middle;\n",
       "    }\n",
       "\n",
       "    .dataframe tbody tr th {\n",
       "        vertical-align: top;\n",
       "    }\n",
       "\n",
       "    .dataframe thead th {\n",
       "        text-align: right;\n",
       "    }\n",
       "</style>\n",
       "<table border=\"1\" class=\"dataframe\">\n",
       "  <thead>\n",
       "    <tr style=\"text-align: right;\">\n",
       "      <th></th>\n",
       "      <th>Countries</th>\n",
       "      <th>Local</th>\n",
       "      <th>Industry Sector</th>\n",
       "      <th>Accident Level</th>\n",
       "      <th>Potential Accident Level</th>\n",
       "      <th>Genre</th>\n",
       "      <th>Employee ou Terceiro</th>\n",
       "      <th>Risco Critico</th>\n",
       "      <th>weekday</th>\n",
       "    </tr>\n",
       "  </thead>\n",
       "  <tbody>\n",
       "    <tr>\n",
       "      <th>0</th>\n",
       "      <td>Country_01</td>\n",
       "      <td>Local_01</td>\n",
       "      <td>Mining</td>\n",
       "      <td>I</td>\n",
       "      <td>IV</td>\n",
       "      <td>Male</td>\n",
       "      <td>Third Party</td>\n",
       "      <td>Pressed</td>\n",
       "      <td>4</td>\n",
       "    </tr>\n",
       "    <tr>\n",
       "      <th>1</th>\n",
       "      <td>Country_02</td>\n",
       "      <td>Local_02</td>\n",
       "      <td>Mining</td>\n",
       "      <td>I</td>\n",
       "      <td>IV</td>\n",
       "      <td>Male</td>\n",
       "      <td>Employee</td>\n",
       "      <td>Pressurized Systems</td>\n",
       "      <td>5</td>\n",
       "    </tr>\n",
       "    <tr>\n",
       "      <th>2</th>\n",
       "      <td>Country_01</td>\n",
       "      <td>Local_03</td>\n",
       "      <td>Mining</td>\n",
       "      <td>I</td>\n",
       "      <td>III</td>\n",
       "      <td>Male</td>\n",
       "      <td>Third Party (Remote)</td>\n",
       "      <td>Manual Tools</td>\n",
       "      <td>2</td>\n",
       "    </tr>\n",
       "    <tr>\n",
       "      <th>3</th>\n",
       "      <td>Country_01</td>\n",
       "      <td>Local_04</td>\n",
       "      <td>Mining</td>\n",
       "      <td>I</td>\n",
       "      <td>I</td>\n",
       "      <td>Male</td>\n",
       "      <td>Third Party</td>\n",
       "      <td>Others</td>\n",
       "      <td>4</td>\n",
       "    </tr>\n",
       "    <tr>\n",
       "      <th>4</th>\n",
       "      <td>Country_01</td>\n",
       "      <td>Local_04</td>\n",
       "      <td>Mining</td>\n",
       "      <td>IV</td>\n",
       "      <td>IV</td>\n",
       "      <td>Male</td>\n",
       "      <td>Third Party</td>\n",
       "      <td>Others</td>\n",
       "      <td>6</td>\n",
       "    </tr>\n",
       "  </tbody>\n",
       "</table>\n",
       "</div>"
      ],
      "text/plain": [
       "    Countries     Local Industry Sector Accident Level  \\\n",
       "0  Country_01  Local_01          Mining              I   \n",
       "1  Country_02  Local_02          Mining              I   \n",
       "2  Country_01  Local_03          Mining              I   \n",
       "3  Country_01  Local_04          Mining              I   \n",
       "4  Country_01  Local_04          Mining             IV   \n",
       "\n",
       "  Potential Accident Level Genre  Employee ou Terceiro        Risco Critico  \\\n",
       "0                       IV  Male           Third Party              Pressed   \n",
       "1                       IV  Male              Employee  Pressurized Systems   \n",
       "2                      III  Male  Third Party (Remote)         Manual Tools   \n",
       "3                        I  Male           Third Party               Others   \n",
       "4                       IV  Male           Third Party               Others   \n",
       "\n",
       "  weekday  \n",
       "0       4  \n",
       "1       5  \n",
       "2       2  \n",
       "3       4  \n",
       "4       6  "
      ]
     },
     "metadata": {},
     "execution_count": 129
    }
   ],
   "metadata": {}
  },
  {
   "cell_type": "code",
   "execution_count": null,
   "source": [
    "(54, 111),\r\n",
    "(56, 437),\r\n",
    "(56, 818),\r\n",
    "(56, 937),\r\n",
    "(57, 25),"
   ],
   "outputs": [],
   "metadata": {}
  },
  {
   "cell_type": "code",
   "execution_count": 329,
   "source": [
    "df_train, df_test = train_test_split(accident_df, train_size=.8, random_state=45) # 25, 818"
   ],
   "outputs": [],
   "metadata": {}
  },
  {
   "cell_type": "code",
   "execution_count": 330,
   "source": [
    "decision_tree = id3(df_train, attributes.copy(), target_attribute)"
   ],
   "outputs": [],
   "metadata": {}
  },
  {
   "cell_type": "code",
   "execution_count": 331,
   "source": [
    "y_pred_apriori = pd.Series([get_most_frequent_class(df_train[target_attribute])] * len(df_test), index = df_test.index, name=\"apriori_pred\")\r\n",
    "y_pred_tree = decision_tree.predict(df_test)\r\n",
    "y = df_test[target_attribute]\r\n",
    "y.name = \"real\""
   ],
   "outputs": [],
   "metadata": {}
  },
  {
   "cell_type": "code",
   "execution_count": 332,
   "source": [
    "results = pd.concat([y, y_pred_apriori, y_pred_tree], axis = 1)"
   ],
   "outputs": [],
   "metadata": {}
  },
  {
   "cell_type": "code",
   "execution_count": 333,
   "source": [
    "results.head()"
   ],
   "outputs": [
    {
     "output_type": "execute_result",
     "data": {
      "text/html": [
       "<div>\n",
       "<style scoped>\n",
       "    .dataframe tbody tr th:only-of-type {\n",
       "        vertical-align: middle;\n",
       "    }\n",
       "\n",
       "    .dataframe tbody tr th {\n",
       "        vertical-align: top;\n",
       "    }\n",
       "\n",
       "    .dataframe thead th {\n",
       "        text-align: right;\n",
       "    }\n",
       "</style>\n",
       "<table border=\"1\" class=\"dataframe\">\n",
       "  <thead>\n",
       "    <tr style=\"text-align: right;\">\n",
       "      <th></th>\n",
       "      <th>real</th>\n",
       "      <th>apriori_pred</th>\n",
       "      <th>decision_tree_pred</th>\n",
       "    </tr>\n",
       "  </thead>\n",
       "  <tbody>\n",
       "    <tr>\n",
       "      <th>197</th>\n",
       "      <td>II</td>\n",
       "      <td>I</td>\n",
       "      <td>II</td>\n",
       "    </tr>\n",
       "    <tr>\n",
       "      <th>400</th>\n",
       "      <td>III</td>\n",
       "      <td>I</td>\n",
       "      <td>III</td>\n",
       "    </tr>\n",
       "    <tr>\n",
       "      <th>411</th>\n",
       "      <td>I</td>\n",
       "      <td>I</td>\n",
       "      <td>I</td>\n",
       "    </tr>\n",
       "    <tr>\n",
       "      <th>328</th>\n",
       "      <td>I</td>\n",
       "      <td>I</td>\n",
       "      <td>I</td>\n",
       "    </tr>\n",
       "    <tr>\n",
       "      <th>239</th>\n",
       "      <td>I</td>\n",
       "      <td>I</td>\n",
       "      <td>I</td>\n",
       "    </tr>\n",
       "  </tbody>\n",
       "</table>\n",
       "</div>"
      ],
      "text/plain": [
       "    real apriori_pred decision_tree_pred\n",
       "197   II            I                 II\n",
       "400  III            I                III\n",
       "411    I            I                  I\n",
       "328    I            I                  I\n",
       "239    I            I                  I"
      ]
     },
     "metadata": {},
     "execution_count": 333
    }
   ],
   "metadata": {}
  },
  {
   "cell_type": "code",
   "execution_count": 334,
   "source": [
    "def accuracy(y, y_pred):\r\n",
    "    return sum(y == y_pred) / len(y)"
   ],
   "outputs": [],
   "metadata": {}
  },
  {
   "cell_type": "code",
   "execution_count": 335,
   "source": [
    "accuracy(results['real'], results['decision_tree_pred'])"
   ],
   "outputs": [
    {
     "output_type": "execute_result",
     "data": {
      "text/plain": [
       "0.7272727272727273"
      ]
     },
     "metadata": {},
     "execution_count": 335
    }
   ],
   "metadata": {}
  },
  {
   "cell_type": "code",
   "execution_count": 336,
   "source": [
    "accuracy(results['real'], results['apriori_pred'])"
   ],
   "outputs": [
    {
     "output_type": "execute_result",
     "data": {
      "text/plain": [
       "0.6590909090909091"
      ]
     },
     "metadata": {},
     "execution_count": 336
    }
   ],
   "metadata": {}
  },
  {
   "cell_type": "code",
   "execution_count": 348,
   "source": [
    "sns.heatmap(confusion_matrix(results['real'], results['decision_tree_pred'], labels = [ 'I', 'II', 'III', 'IV', 'V']), annot=True)\r\n",
    "plt.xlabel(\"predicted\")\r\n",
    "plt.ylabel(\"real\")"
   ],
   "outputs": [
    {
     "output_type": "execute_result",
     "data": {
      "text/plain": [
       "Text(33.0, 0.5, 'real')"
      ]
     },
     "metadata": {},
     "execution_count": 348
    },
    {
     "output_type": "display_data",
     "data": {
      "image/png": "[encoded data removed]",
      "text/plain": [
       "<Figure size 432x288 with 2 Axes>"
      ]
     },
     "metadata": {
      "needs_background": "light"
     }
    }
   ],
   "metadata": {}
  },
  {
   "cell_type": "code",
   "execution_count": 349,
   "source": [
    "sns.heatmap(confusion_matrix(results['real'], results['apriori_pred'],  labels = [ 'I', 'II', 'III', 'IV', 'V']), annot=True)\r\n",
    "plt.xlabel(\"predicted\")\r\n",
    "plt.ylabel(\"real\")"
   ],
   "outputs": [
    {
     "output_type": "execute_result",
     "data": {
      "text/plain": [
       "Text(33.0, 0.5, 'real')"
      ]
     },
     "metadata": {},
     "execution_count": 349
    },
    {
     "output_type": "display_data",
     "data": {
      "image/png": "[encoded data removed]",
      "text/plain": [
       "<Figure size 432x288 with 2 Axes>"
      ]
     },
     "metadata": {
      "needs_background": "light"
     }
    }
   ],
   "metadata": {}
  },
  {
   "cell_type": "code",
   "execution_count": 316,
   "source": [
    "def roman2dec(x):\r\n",
    "    if x == 'I':\r\n",
    "        return 1\r\n",
    "    if x == 'II':\r\n",
    "        return 2\r\n",
    "    if x == 'III':\r\n",
    "        return 3\r\n",
    "    if x == 'IV':\r\n",
    "        return 4\r\n",
    "    if x == 'V':\r\n",
    "        return 5"
   ],
   "outputs": [],
   "metadata": {}
  },
  {
   "cell_type": "code",
   "execution_count": 317,
   "source": [
    "mean_squared_error(results['real'].apply(roman2dec), results['decision_tree_pred'].apply(roman2dec))"
   ],
   "outputs": [
    {
     "output_type": "execute_result",
     "data": {
      "text/plain": [
       "1.0"
      ]
     },
     "metadata": {},
     "execution_count": 317
    }
   ],
   "metadata": {}
  },
  {
   "cell_type": "code",
   "execution_count": 318,
   "source": [
    "mean_squared_error(results['real'].apply(roman2dec), results['apriori_pred'].apply(roman2dec))"
   ],
   "outputs": [
    {
     "output_type": "execute_result",
     "data": {
      "text/plain": [
       "1.9090909090909092"
      ]
     },
     "metadata": {},
     "execution_count": 318
    }
   ],
   "metadata": {}
  },
  {
   "cell_type": "code",
   "execution_count": 319,
   "source": [
    "cohen_kappa_score(results['real'], results['decision_tree_pred'])"
   ],
   "outputs": [
    {
     "output_type": "execute_result",
     "data": {
      "text/plain": [
       "0.3943217665615142"
      ]
     },
     "metadata": {},
     "execution_count": 319
    }
   ],
   "metadata": {}
  },
  {
   "cell_type": "code",
   "execution_count": 320,
   "source": [
    "cohen_kappa_score(results['real'], results['apriori_pred'])"
   ],
   "outputs": [
    {
     "output_type": "execute_result",
     "data": {
      "text/plain": [
       "0.0"
      ]
     },
     "metadata": {},
     "execution_count": 320
    }
   ],
   "metadata": {}
  },
  {
   "cell_type": "code",
   "execution_count": null,
   "source": [],
   "outputs": [],
   "metadata": {}
  }
 ],
 "metadata": {
  "orig_nbformat": 4,
  "language_info": {
   "name": "python",
   "version": "3.8.8",
   "mimetype": "text/x-python",
   "codemirror_mode": {
    "name": "ipython",
    "version": 3
   },
   "pygments_lexer": "ipython3",
   "nbconvert_exporter": "python",
   "file_extension": ".py"
  },
  "kernelspec": {
   "name": "python3",
   "display_name": "Python 3.8.8 64-bit"
  },
  "interpreter": {
   "hash": "aa8e4de9f4426ab75fdef01f3d7947e2b3e9cfbdb80ba65115d4f20988c8517e"
  }
 },
 "nbformat": 4,
 "nbformat_minor": 2
}