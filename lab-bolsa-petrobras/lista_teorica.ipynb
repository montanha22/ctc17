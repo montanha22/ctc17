{
 "cells": [
  {
   "cell_type": "code",
   "execution_count": 2,
   "metadata": {},
   "outputs": [],
   "source": [
    "import numpy as np"
   ]
  },
  {
   "cell_type": "code",
   "execution_count": 3,
   "metadata": {},
   "outputs": [],
   "source": [
    "x = {\n",
    "    1 : np.array([ 0,  1,  2, -1]).T,\n",
    "    2 : np.array([ 0,  2, -5,  1]).T,\n",
    "    3 : np.array([ 1, -2,  3, -1]).T\n",
    "}\n",
    "\n",
    "w = {\n",
    "    1 : np.array([.5, .5, .5, .5]).T\n",
    "}\n",
    "\n",
    "d = {\n",
    "    1 : -1,\n",
    "    2 :  1,\n",
    "    3 :  1\n",
    "}\n",
    "\n",
    "c = .1"
   ]
  },
  {
   "cell_type": "code",
   "execution_count": 4,
   "metadata": {},
   "outputs": [],
   "source": [
    "def calculate_weights_hebbiana(x, w1):\n",
    "    w = { 1 : w1 }\n",
    "    net = {}\n",
    "    for i in range(2, 5):\n",
    "        net[i-1] = w[i-1].T @ x[i-1]\n",
    "        w[i] = w[i-1] + np.sign(net[i-1]) *x[i-1]\n",
    "    return w"
   ]
  },
  {
   "cell_type": "code",
   "execution_count": 25,
   "metadata": {},
   "outputs": [
    {
     "data": {
      "text/plain": [
       "{1: array([0.5, 0.5, 0.5, 0.5]),\n",
       " 2: array([ 0.5,  1.5,  2.5, -0.5]),\n",
       " 3: array([ 0.5, -0.5,  7.5, -1.5]),\n",
       " 4: array([ 1.5, -2.5, 10.5, -2.5])}"
      ]
     },
     "execution_count": 25,
     "metadata": {},
     "output_type": "execute_result"
    }
   ],
   "source": [
    "w_hebbiana = calculate_weights_hebbiana(x, w[1])\n",
    "w_hebbiana"
   ]
  },
  {
   "cell_type": "code",
   "execution_count": 6,
   "metadata": {},
   "outputs": [],
   "source": [
    "\n",
    "def calculate_weights_perceptron(x, w1, d):\n",
    "    w = { 1 : w1 }\n",
    "    net = {}\n",
    "    for i in range(2,5):\n",
    "        net[i-1] = w[i-1].T @ x[i-1]\n",
    "        dw = c * (d[i-1] - np.sign(net[i-1])) * x[i-1]\n",
    "        w[i] = w[i-1] + dw\n",
    "    return w"
   ]
  },
  {
   "cell_type": "code",
   "execution_count": 23,
   "metadata": {},
   "outputs": [
    {
     "data": {
      "text/plain": [
       "{1: array([0.5, 0.5, 0.5, 0.5]),\n",
       " 2: array([0.5, 0.3, 0.1, 0.7]),\n",
       " 3: array([0.5, 0.3, 0.1, 0.7]),\n",
       " 4: array([ 0.7, -0.1,  0.7,  0.5])}"
      ]
     },
     "execution_count": 23,
     "metadata": {},
     "output_type": "execute_result"
    }
   ],
   "source": [
    "w_perceptron = calculate_weights_perceptron(x, w[1], d)\n",
    "w_perceptron"
   ]
  },
  {
   "cell_type": "code",
   "execution_count": 14,
   "metadata": {},
   "outputs": [],
   "source": [
    "def f(x):\n",
    "    return 2 / (1 + np.exp(-x)) - 1\n",
    "\n",
    "def d1f(x):\n",
    "    return 1/2 * ( 1 - f(x)**2 )"
   ]
  },
  {
   "cell_type": "code",
   "execution_count": 19,
   "metadata": {},
   "outputs": [],
   "source": [
    "def calculate_weights_delta(x, w1, d):\n",
    "    w = { 1 : w1 }\n",
    "    net = {}\n",
    "    for i in range(2, 5):\n",
    "        net[i-1] =  w[i-1].T @ x[i-1]\n",
    "        w[i] = c * (d[i-1] - f(net[i-1])) * d1f(net[i-1]) * x[i-1] + w[i-1]\n",
    "    return w"
   ]
  },
  {
   "cell_type": "code",
   "execution_count": 22,
   "metadata": {},
   "outputs": [
    {
     "data": {
      "text/plain": [
       "{1: array([0.5, 0.5, 0.5, 0.5]),\n",
       " 2: array([0.5       , 0.44250606, 0.38501213, 0.55749394]),\n",
       " 3: array([0.5       , 0.55924728, 0.09315908, 0.61586455]),\n",
       " 4: array([0.55796218, 0.44332293, 0.26704561, 0.55790237])}"
      ]
     },
     "execution_count": 22,
     "metadata": {},
     "output_type": "execute_result"
    }
   ],
   "source": [
    "w_delta = calculate_weights_delta(x, w[1], d)\n",
    "w_delta"
   ]
  },
  {
   "cell_type": "code",
   "execution_count": null,
   "metadata": {},
   "outputs": [],
   "source": []
  },
  {
   "cell_type": "code",
   "execution_count": 20,
   "metadata": {},
   "outputs": [
    {
     "data": {
      "text/plain": [
       "{1: array([ 1. , -1. ,  0. ,  0.5]),\n",
       " 2: array([ 0.97408569, -0.94817138,  0.        ,  0.52591431]),\n",
       " 3: array([ 0.97408569, -0.95634441,  0.00272434,  0.531363  ]),\n",
       " 4: array([ 0.94737155, -0.92963027,  0.01608141,  0.50464886])}"
      ]
     },
     "execution_count": 20,
     "metadata": {},
     "output_type": "execute_result"
    }
   ],
   "source": [
    "calculate_weights_delta(\n",
    "    {\n",
    "        1 : np.array([ 1,  -2,  0, -1]).T,\n",
    "        2 : np.array([ 0,  1.5, -.5,  -1]).T,\n",
    "        3 : np.array([ -1, 1,  .5, -1]).T\n",
    "    },\n",
    "    np.array([1, -1, 0 , .5]).T,\n",
    "    {\n",
    "        1 : -1, \n",
    "        2 : -1, \n",
    "        3 :  1\n",
    "    }\n",
    "    )"
   ]
  },
  {
   "cell_type": "code",
   "execution_count": null,
   "metadata": {},
   "outputs": [],
   "source": []
  }
 ],
 "metadata": {
  "interpreter": {
   "hash": "aa8e4de9f4426ab75fdef01f3d7947e2b3e9cfbdb80ba65115d4f20988c8517e"
  },
  "kernelspec": {
   "display_name": "Python 3.8.8 64-bit",
   "language": "python",
   "name": "python3"
  },
  "language_info": {
   "codemirror_mode": {
    "name": "ipython",
    "version": 3
   },
   "file_extension": ".py",
   "mimetype": "text/x-python",
   "name": "python",
   "nbconvert_exporter": "python",
   "pygments_lexer": "ipython3",
   "version": "3.8.8"
  },
  "orig_nbformat": 4
 },
 "nbformat": 4,
 "nbformat_minor": 2
}
